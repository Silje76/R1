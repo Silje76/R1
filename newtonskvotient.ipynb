{
 "cells": [
  {
   "cell_type": "markdown",
   "id": "1ec034b6-83c7-4b2c-92d5-42a8473a8394",
   "metadata": {},
   "source": [
    "# 3D Newtons kvotient \n",
    "\n",
    "## Gjennomsnittlig vekstfart\n",
    "Utforsk s 143\n",
    "et enkelt program"
   ]
  },
  {
   "cell_type": "code",
   "execution_count": 10,
   "id": "7a959b9e-38bd-441a-814d-1d8e8d5346e8",
   "metadata": {},
   "outputs": [
    {
     "name": "stdout",
     "output_type": "stream",
     "text": [
      "9.167590605161392\n"
     ]
    }
   ],
   "source": [
    "\n",
    "from numpy import e\n",
    "\n",
    "#startverdier\n",
    "x0 = 1\n",
    "x1 = 1.1\n",
    "delta_x = x1-x0\n",
    "\n",
    "def f(x):             #definerer funskjonen\n",
    "    return x**2*e**x\n",
    "\n",
    "snittfart=(f(x0+delta_x)-f(x0))/delta_x  #regner ut gjennomsnittlig vekstfart i punktet x0\n",
    "    \n",
    "\n",
    "print(snittfart)\n",
    "\n"
   ]
  },
  {
   "cell_type": "markdown",
   "id": "d6f325b2-ad76-493e-ad6f-b5b075458480",
   "metadata": {},
   "source": [
    "endre x1, hva ser du? \n",
    "\n",
    "Sammenligne med f'(1) (bruk CAS)"
   ]
  },
  {
   "cell_type": "markdown",
   "id": "25958582-91dd-429f-9ecb-3aea355220e0",
   "metadata": {},
   "source": [
    "vi endrer litt på programmet så vi tar inn definsjon av den deriverte\n"
   ]
  },
  {
   "cell_type": "code",
   "execution_count": 30,
   "id": "21193bf1-0826-4c7e-b941-69f7e3d5f1a0",
   "metadata": {},
   "outputs": [
    {
     "name": "stdout",
     "output_type": "stream",
     "text": [
      "8.1556983388964\n"
     ]
    }
   ],
   "source": [
    "from numpy import e\n",
    "\n",
    "#startverdier\n",
    "x0 = 1\n",
    "\n",
    "delta_x = 0.000000000001\n",
    "\n",
    "def f(x):             #definerer funskjonen\n",
    "    return x**2*e**x\n",
    "\n",
    "def snittfart(f,x,delta_x):\n",
    "        return (f(x0+delta_x)-f(x0))/delta_x  #regner ut gjennomsnittlig vekstfart i punktet x0\n",
    "    \n",
    "\n",
    "print(snittfart(f,x0,delta_x))"
   ]
  },
  {
   "cell_type": "markdown",
   "id": "13a96ba8-edf4-44fa-9530-a1ace8bff486",
   "metadata": {},
   "source": [
    "endre delta_x så du får en mest nøyaktig verdi : bruk 1E-3 osv"
   ]
  },
  {
   "cell_type": "markdown",
   "id": "62cf4771-8b34-4d3f-a8d2-e34617cb3ad4",
   "metadata": {},
   "source": [
    "newtons kvotient\n",
    "\n",
    "<img src=\"newtonskvotient.jpg\">\n",
    "\n"
   ]
  },
  {
   "cell_type": "code",
   "execution_count": 40,
   "id": "bbdf2469-20e3-4be0-a330-3cf6cc5a7de2",
   "metadata": {},
   "outputs": [
    {
     "name": "stdout",
     "output_type": "stream",
     "text": [
      "f’( 1 ) = 0.0\n"
     ]
    }
   ],
   "source": [
    "#startverdier\n",
    "a= 1\n",
    "\n",
    "\n",
    "def f(x):                       # funksjonen vi vil derivere\n",
    "  return 2*x**2 + x - 5\n",
    "\n",
    "def derivert(f,a, delta_x):       # numerisk derivasjon i a\n",
    "  return (f(a + delta_x) - f(a)) / delta_x\n",
    "\n",
    "print(\"f’(\",a,\") =\", derivert(f, a, delta_x))"
   ]
  },
  {
   "cell_type": "markdown",
   "id": "e88d290e-d28e-4389-9dde-f87bccb735d3",
   "metadata": {},
   "source": [
    "utforsk s. 144   \n",
    "\n",
    "legg inn dette"
   ]
  },
  {
   "cell_type": "code",
   "execution_count": null,
   "id": "bdd2bc27-cdbf-400d-9eac-cfa8585dfb31",
   "metadata": {},
   "outputs": [],
   "source": [
    "for i in range(1,17):\n",
    "    delta_x = 10**-i\n",
    "    print(\"f’(\",a,\") =\", derivert(f, a, delta_x))"
   ]
  }
 ],
 "metadata": {
  "kernelspec": {
   "display_name": "Python 3 (ipykernel)",
   "language": "python",
   "name": "python3"
  },
  "language_info": {
   "codemirror_mode": {
    "name": "ipython",
    "version": 3
   },
   "file_extension": ".py",
   "mimetype": "text/x-python",
   "name": "python",
   "nbconvert_exporter": "python",
   "pygments_lexer": "ipython3",
   "version": "3.11.7"
  }
 },
 "nbformat": 4,
 "nbformat_minor": 5
}
